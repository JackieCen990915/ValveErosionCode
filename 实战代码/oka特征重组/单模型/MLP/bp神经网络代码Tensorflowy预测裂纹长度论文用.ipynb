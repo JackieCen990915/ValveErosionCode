{
 "cells": [
  {
   "cell_type": "code",
   "execution_count": 61,
   "id": "621f2167",
   "metadata": {},
   "outputs": [],
   "source": [
    "import pandas as pd\n",
    "import numpy as np\n",
    "import tensorflow as tf\n",
    "import matplotlib.pyplot as plt"
   ]
  },
  {
   "cell_type": "code",
   "execution_count": 62,
   "id": "eb469838",
   "metadata": {},
   "outputs": [],
   "source": [
    "from tensorflow.keras.models import Sequential\n",
    "from tensorflow.keras.layers import Dense\n",
    "from tensorflow.keras import metrics"
   ]
  },
  {
   "cell_type": "code",
   "execution_count": 63,
   "id": "6ac6fafb",
   "metadata": {
    "scrolled": true
   },
   "outputs": [],
   "source": [
    "data = pd.read_csv(\"3训练神经网络数据.csv\")#数据格式为csv utf-8"
   ]
  },
  {
   "cell_type": "code",
   "execution_count": 64,
   "id": "a03decf0",
   "metadata": {},
   "outputs": [],
   "source": [
    "x = data.iloc[:, :-1].values # 取出除最后一列的所有列作为特征矩阵"
   ]
  },
  {
   "cell_type": "code",
   "execution_count": 65,
   "id": "f9cfbbaa",
   "metadata": {},
   "outputs": [],
   "source": [
    "y = data.iloc[:,-1].values # 取出最后一列作为目标变量"
   ]
  },
  {
   "cell_type": "code",
   "execution_count": 66,
   "id": "ce7abdf9",
   "metadata": {},
   "outputs": [],
   "source": [
    "y = y.reshape(-1, 1) # 将y变为二维数组"
   ]
  },
  {
   "cell_type": "code",
   "execution_count": 67,
   "id": "04395bd2",
   "metadata": {},
   "outputs": [],
   "source": [
    "from sklearn.model_selection import train_test_split\n",
    "\n",
    "from keras import regularizers"
   ]
  },
  {
   "cell_type": "code",
   "execution_count": 68,
   "id": "cc0f43a9",
   "metadata": {},
   "outputs": [],
   "source": [
    "x_train, x_test, y_train, y_test = train_test_split(x, y, test_size=0.2)#划分训练集与测试集"
   ]
  },
  {
   "cell_type": "code",
   "execution_count": 69,
   "id": "cf8b64ea",
   "metadata": {},
   "outputs": [],
   "source": [
    "model = tf.keras.Sequential([\n",
    "    tf.keras.layers.Dense(units=9, activation='relu', input_dim=11),\n",
    "    tf.keras.layers.Dense(units=9, activation='relu'),\n",
    "        tf.keras.layers.Dense(10, input_dim=10,  kernel_regularizer=regularizers.l2(0.01), activity_regularizer=regularizers.l1(0.01)),\n",
    "    tf.keras.layers.Dense(units=1, activation='linear')])#搭建神经网络模型，使用时修改 input_dim=11即可，输入数据除最后一列外有多少列，该值即为多少"
   ]
  },
  {
   "cell_type": "code",
   "execution_count": 70,
   "id": "4e881738",
   "metadata": {},
   "outputs": [],
   "source": [
    "model.compile(loss='mse', optimizer='adam',metrics=[metrics.MAE])#编译模型"
   ]
  },
  {
   "cell_type": "code",
   "execution_count": 71,
   "id": "95769e47",
   "metadata": {},
   "outputs": [
    {
     "name": "stdout",
     "output_type": "stream",
     "text": [
      "Epoch 1/100\n",
      "2/2 [==============================] - 0s 59ms/step - loss: 10.2323 - mean_absolute_error: 2.6355 - val_loss: 26.7065 - val_mean_absolute_error: 3.7652\n",
      "Epoch 2/100\n",
      "2/2 [==============================] - 0s 21ms/step - loss: 9.7908 - mean_absolute_error: 2.5621 - val_loss: 25.8713 - val_mean_absolute_error: 3.6695\n",
      "Epoch 3/100\n",
      "2/2 [==============================] - 0s 19ms/step - loss: 9.3122 - mean_absolute_error: 2.4749 - val_loss: 25.0486 - val_mean_absolute_error: 3.5725\n",
      "Epoch 4/100\n",
      "2/2 [==============================] - 0s 21ms/step - loss: 8.7954 - mean_absolute_error: 2.3914 - val_loss: 24.3693 - val_mean_absolute_error: 3.4818\n",
      "Epoch 5/100\n",
      "2/2 [==============================] - 0s 21ms/step - loss: 8.3488 - mean_absolute_error: 2.3063 - val_loss: 23.6980 - val_mean_absolute_error: 3.3885\n",
      "Epoch 6/100\n",
      "2/2 [==============================] - 0s 21ms/step - loss: 7.9250 - mean_absolute_error: 2.2188 - val_loss: 23.0167 - val_mean_absolute_error: 3.2917\n",
      "Epoch 7/100\n",
      "2/2 [==============================] - 0s 21ms/step - loss: 7.4659 - mean_absolute_error: 2.1314 - val_loss: 22.3398 - val_mean_absolute_error: 3.2637\n",
      "Epoch 8/100\n",
      "2/2 [==============================] - 0s 21ms/step - loss: 7.0734 - mean_absolute_error: 2.0587 - val_loss: 21.6547 - val_mean_absolute_error: 3.2395\n",
      "Epoch 9/100\n",
      "2/2 [==============================] - 0s 20ms/step - loss: 6.6228 - mean_absolute_error: 1.9904 - val_loss: 20.9790 - val_mean_absolute_error: 3.2138\n",
      "Epoch 10/100\n",
      "2/2 [==============================] - 0s 21ms/step - loss: 6.1929 - mean_absolute_error: 1.9222 - val_loss: 20.3040 - val_mean_absolute_error: 3.1880\n",
      "Epoch 11/100\n",
      "2/2 [==============================] - 0s 25ms/step - loss: 5.8759 - mean_absolute_error: 1.8737 - val_loss: 19.6324 - val_mean_absolute_error: 3.1613\n",
      "Epoch 12/100\n",
      "2/2 [==============================] - 0s 20ms/step - loss: 5.4784 - mean_absolute_error: 1.8138 - val_loss: 18.9872 - val_mean_absolute_error: 3.1348\n",
      "Epoch 13/100\n",
      "2/2 [==============================] - 0s 21ms/step - loss: 5.1401 - mean_absolute_error: 1.7556 - val_loss: 18.3551 - val_mean_absolute_error: 3.1080\n",
      "Epoch 14/100\n",
      "2/2 [==============================] - 0s 21ms/step - loss: 4.7656 - mean_absolute_error: 1.6988 - val_loss: 17.7332 - val_mean_absolute_error: 3.0809\n",
      "Epoch 15/100\n",
      "2/2 [==============================] - 0s 22ms/step - loss: 4.5283 - mean_absolute_error: 1.6682 - val_loss: 17.1042 - val_mean_absolute_error: 3.0517\n",
      "Epoch 16/100\n",
      "2/2 [==============================] - 0s 25ms/step - loss: 4.2208 - mean_absolute_error: 1.6233 - val_loss: 16.5188 - val_mean_absolute_error: 3.0228\n",
      "Epoch 17/100\n",
      "2/2 [==============================] - 0s 24ms/step - loss: 3.9289 - mean_absolute_error: 1.5732 - val_loss: 15.9717 - val_mean_absolute_error: 2.9946\n",
      "Epoch 18/100\n",
      "2/2 [==============================] - 0s 25ms/step - loss: 3.7225 - mean_absolute_error: 1.5300 - val_loss: 15.4761 - val_mean_absolute_error: 2.9745\n",
      "Epoch 19/100\n",
      "2/2 [==============================] - 0s 27ms/step - loss: 3.4793 - mean_absolute_error: 1.4803 - val_loss: 15.0196 - val_mean_absolute_error: 2.9535\n",
      "Epoch 20/100\n",
      "2/2 [==============================] - 0s 24ms/step - loss: 3.3719 - mean_absolute_error: 1.4690 - val_loss: 14.6000 - val_mean_absolute_error: 2.9323\n",
      "Epoch 21/100\n",
      "2/2 [==============================] - 0s 20ms/step - loss: 3.2068 - mean_absolute_error: 1.4112 - val_loss: 14.2422 - val_mean_absolute_error: 2.9117\n",
      "Epoch 22/100\n",
      "2/2 [==============================] - 0s 20ms/step - loss: 3.1048 - mean_absolute_error: 1.3844 - val_loss: 13.9280 - val_mean_absolute_error: 2.8912\n",
      "Epoch 23/100\n",
      "2/2 [==============================] - 0s 21ms/step - loss: 3.0109 - mean_absolute_error: 1.3443 - val_loss: 13.6585 - val_mean_absolute_error: 2.8719\n",
      "Epoch 24/100\n",
      "2/2 [==============================] - 0s 22ms/step - loss: 2.9306 - mean_absolute_error: 1.3278 - val_loss: 13.4248 - val_mean_absolute_error: 2.8541\n",
      "Epoch 25/100\n",
      "2/2 [==============================] - 0s 20ms/step - loss: 2.9236 - mean_absolute_error: 1.3463 - val_loss: 13.2186 - val_mean_absolute_error: 2.8364\n",
      "Epoch 26/100\n",
      "2/2 [==============================] - 0s 16ms/step - loss: 2.8866 - mean_absolute_error: 1.3597 - val_loss: 13.0521 - val_mean_absolute_error: 2.8189\n",
      "Epoch 27/100\n",
      "2/2 [==============================] - 0s 25ms/step - loss: 2.8423 - mean_absolute_error: 1.3685 - val_loss: 12.9255 - val_mean_absolute_error: 2.8034\n",
      "Epoch 28/100\n",
      "2/2 [==============================] - 0s 25ms/step - loss: 2.8175 - mean_absolute_error: 1.3714 - val_loss: 12.8240 - val_mean_absolute_error: 2.7907\n",
      "Epoch 29/100\n",
      "2/2 [==============================] - 0s 25ms/step - loss: 2.8115 - mean_absolute_error: 1.3781 - val_loss: 12.7331 - val_mean_absolute_error: 2.7790\n",
      "Epoch 30/100\n",
      "2/2 [==============================] - 0s 26ms/step - loss: 2.7891 - mean_absolute_error: 1.3790 - val_loss: 12.6654 - val_mean_absolute_error: 2.7695\n",
      "Epoch 31/100\n",
      "2/2 [==============================] - 0s 25ms/step - loss: 2.7729 - mean_absolute_error: 1.3802 - val_loss: 12.5996 - val_mean_absolute_error: 2.7599\n",
      "Epoch 32/100\n",
      "2/2 [==============================] - 0s 22ms/step - loss: 2.7616 - mean_absolute_error: 1.3810 - val_loss: 12.5465 - val_mean_absolute_error: 2.7515\n",
      "Epoch 33/100\n",
      "2/2 [==============================] - 0s 21ms/step - loss: 2.7607 - mean_absolute_error: 1.3858 - val_loss: 12.4934 - val_mean_absolute_error: 2.7433\n",
      "Epoch 34/100\n",
      "2/2 [==============================] - 0s 21ms/step - loss: 2.7407 - mean_absolute_error: 1.3819 - val_loss: 12.4825 - val_mean_absolute_error: 2.7395\n",
      "Epoch 35/100\n",
      "2/2 [==============================] - 0s 20ms/step - loss: 2.7191 - mean_absolute_error: 1.3772 - val_loss: 12.4618 - val_mean_absolute_error: 2.7354\n",
      "Epoch 36/100\n",
      "2/2 [==============================] - 0s 21ms/step - loss: 2.7064 - mean_absolute_error: 1.3749 - val_loss: 12.4479 - val_mean_absolute_error: 2.7323\n",
      "Epoch 37/100\n",
      "2/2 [==============================] - 0s 19ms/step - loss: 2.6961 - mean_absolute_error: 1.3718 - val_loss: 12.4582 - val_mean_absolute_error: 2.7315\n",
      "Epoch 38/100\n",
      "2/2 [==============================] - 0s 20ms/step - loss: 2.6769 - mean_absolute_error: 1.3671 - val_loss: 12.4593 - val_mean_absolute_error: 2.7302\n",
      "Epoch 39/100\n",
      "2/2 [==============================] - 0s 20ms/step - loss: 2.6625 - mean_absolute_error: 1.3635 - val_loss: 12.4548 - val_mean_absolute_error: 2.7289\n",
      "Epoch 40/100\n",
      "2/2 [==============================] - 0s 18ms/step - loss: 2.6492 - mean_absolute_error: 1.3619 - val_loss: 12.4443 - val_mean_absolute_error: 2.7267\n",
      "Epoch 41/100\n",
      "2/2 [==============================] - 0s 24ms/step - loss: 2.6358 - mean_absolute_error: 1.3589 - val_loss: 12.4403 - val_mean_absolute_error: 2.7252\n",
      "Epoch 42/100\n",
      "2/2 [==============================] - 0s 25ms/step - loss: 2.6224 - mean_absolute_error: 1.3557 - val_loss: 12.4568 - val_mean_absolute_error: 2.7255\n",
      "Epoch 43/100\n",
      "2/2 [==============================] - 0s 25ms/step - loss: 2.6026 - mean_absolute_error: 1.3485 - val_loss: 12.5148 - val_mean_absolute_error: 2.7299\n",
      "Epoch 44/100\n",
      "2/2 [==============================] - 0s 21ms/step - loss: 2.5869 - mean_absolute_error: 1.3413 - val_loss: 12.5765 - val_mean_absolute_error: 2.7345\n",
      "Epoch 45/100\n",
      "2/2 [==============================] - 0s 18ms/step - loss: 2.5737 - mean_absolute_error: 1.3310 - val_loss: 12.6382 - val_mean_absolute_error: 2.7394\n",
      "Epoch 46/100\n",
      "2/2 [==============================] - 0s 19ms/step - loss: 2.5624 - mean_absolute_error: 1.3252 - val_loss: 12.6997 - val_mean_absolute_error: 2.7449\n",
      "Epoch 47/100\n",
      "2/2 [==============================] - 0s 20ms/step - loss: 2.5486 - mean_absolute_error: 1.3216 - val_loss: 12.7516 - val_mean_absolute_error: 2.7499\n",
      "Epoch 48/100\n",
      "2/2 [==============================] - 0s 22ms/step - loss: 2.5352 - mean_absolute_error: 1.3162 - val_loss: 12.7859 - val_mean_absolute_error: 2.7531\n",
      "Epoch 49/100\n",
      "2/2 [==============================] - 0s 25ms/step - loss: 2.5257 - mean_absolute_error: 1.3136 - val_loss: 12.8049 - val_mean_absolute_error: 2.7554\n",
      "Epoch 50/100\n",
      "2/2 [==============================] - 0s 17ms/step - loss: 2.5116 - mean_absolute_error: 1.3084 - val_loss: 12.8497 - val_mean_absolute_error: 2.7591\n",
      "Epoch 51/100\n"
     ]
    },
    {
     "name": "stdout",
     "output_type": "stream",
     "text": [
      "2/2 [==============================] - 0s 25ms/step - loss: 2.4986 - mean_absolute_error: 1.3048 - val_loss: 12.8743 - val_mean_absolute_error: 2.7610\n",
      "Epoch 52/100\n",
      "2/2 [==============================] - 0s 26ms/step - loss: 2.4834 - mean_absolute_error: 1.2999 - val_loss: 12.8800 - val_mean_absolute_error: 2.7612\n",
      "Epoch 53/100\n",
      "2/2 [==============================] - 0s 20ms/step - loss: 2.4712 - mean_absolute_error: 1.2966 - val_loss: 12.8987 - val_mean_absolute_error: 2.7626\n",
      "Epoch 54/100\n",
      "2/2 [==============================] - 0s 20ms/step - loss: 2.4586 - mean_absolute_error: 1.2934 - val_loss: 12.9239 - val_mean_absolute_error: 2.7647\n",
      "Epoch 55/100\n",
      "2/2 [==============================] - 0s 19ms/step - loss: 2.4469 - mean_absolute_error: 1.2891 - val_loss: 12.9438 - val_mean_absolute_error: 2.7660\n",
      "Epoch 56/100\n",
      "2/2 [==============================] - 0s 20ms/step - loss: 2.4361 - mean_absolute_error: 1.2864 - val_loss: 12.9406 - val_mean_absolute_error: 2.7649\n",
      "Epoch 57/100\n",
      "2/2 [==============================] - 0s 19ms/step - loss: 2.4264 - mean_absolute_error: 1.2849 - val_loss: 12.9408 - val_mean_absolute_error: 2.7633\n",
      "Epoch 58/100\n",
      "2/2 [==============================] - 0s 22ms/step - loss: 2.4100 - mean_absolute_error: 1.2807 - val_loss: 12.9679 - val_mean_absolute_error: 2.7648\n",
      "Epoch 59/100\n",
      "2/2 [==============================] - 0s 20ms/step - loss: 2.4024 - mean_absolute_error: 1.2764 - val_loss: 12.9947 - val_mean_absolute_error: 2.7671\n",
      "Epoch 60/100\n",
      "2/2 [==============================] - 0s 20ms/step - loss: 2.3938 - mean_absolute_error: 1.2742 - val_loss: 13.0038 - val_mean_absolute_error: 2.7686\n",
      "Epoch 61/100\n",
      "2/2 [==============================] - 0s 20ms/step - loss: 2.3887 - mean_absolute_error: 1.2744 - val_loss: 12.9738 - val_mean_absolute_error: 2.7666\n",
      "Epoch 62/100\n",
      "2/2 [==============================] - 0s 19ms/step - loss: 2.3657 - mean_absolute_error: 1.2695 - val_loss: 12.9777 - val_mean_absolute_error: 2.7667\n",
      "Epoch 63/100\n",
      "2/2 [==============================] - 0s 19ms/step - loss: 2.3508 - mean_absolute_error: 1.2661 - val_loss: 12.9595 - val_mean_absolute_error: 2.7658\n",
      "Epoch 64/100\n",
      "2/2 [==============================] - 0s 20ms/step - loss: 2.3402 - mean_absolute_error: 1.2644 - val_loss: 12.9515 - val_mean_absolute_error: 2.7662\n",
      "Epoch 65/100\n",
      "2/2 [==============================] - 0s 20ms/step - loss: 2.3322 - mean_absolute_error: 1.2634 - val_loss: 12.9618 - val_mean_absolute_error: 2.7683\n",
      "Epoch 66/100\n",
      "2/2 [==============================] - 0s 19ms/step - loss: 2.3218 - mean_absolute_error: 1.2583 - val_loss: 12.9987 - val_mean_absolute_error: 2.7731\n",
      "Epoch 67/100\n",
      "2/2 [==============================] - 0s 19ms/step - loss: 2.3077 - mean_absolute_error: 1.2537 - val_loss: 13.0091 - val_mean_absolute_error: 2.7762\n",
      "Epoch 68/100\n",
      "2/2 [==============================] - 0s 22ms/step - loss: 2.2943 - mean_absolute_error: 1.2502 - val_loss: 12.9959 - val_mean_absolute_error: 2.7769\n",
      "Epoch 69/100\n",
      "2/2 [==============================] - 0s 20ms/step - loss: 2.2838 - mean_absolute_error: 1.2481 - val_loss: 12.9923 - val_mean_absolute_error: 2.7791\n",
      "Epoch 70/100\n",
      "2/2 [==============================] - 0s 19ms/step - loss: 2.2702 - mean_absolute_error: 1.2452 - val_loss: 12.9766 - val_mean_absolute_error: 2.7795\n",
      "Epoch 71/100\n",
      "2/2 [==============================] - 0s 19ms/step - loss: 2.2566 - mean_absolute_error: 1.2424 - val_loss: 12.9501 - val_mean_absolute_error: 2.7794\n",
      "Epoch 72/100\n",
      "2/2 [==============================] - 0s 18ms/step - loss: 2.2572 - mean_absolute_error: 1.2453 - val_loss: 12.9254 - val_mean_absolute_error: 2.7792\n",
      "Epoch 73/100\n",
      "2/2 [==============================] - 0s 19ms/step - loss: 2.2396 - mean_absolute_error: 1.2419 - val_loss: 12.9314 - val_mean_absolute_error: 2.7819\n",
      "Epoch 74/100\n",
      "2/2 [==============================] - 0s 24ms/step - loss: 2.2320 - mean_absolute_error: 1.2398 - val_loss: 12.9365 - val_mean_absolute_error: 2.7846\n",
      "Epoch 75/100\n",
      "2/2 [==============================] - 0s 19ms/step - loss: 2.2176 - mean_absolute_error: 1.2365 - val_loss: 12.9319 - val_mean_absolute_error: 2.7850\n",
      "Epoch 76/100\n",
      "2/2 [==============================] - 0s 18ms/step - loss: 2.2159 - mean_absolute_error: 1.2372 - val_loss: 12.9172 - val_mean_absolute_error: 2.7843\n",
      "Epoch 77/100\n",
      "2/2 [==============================] - 0s 21ms/step - loss: 2.1991 - mean_absolute_error: 1.2324 - val_loss: 12.9301 - val_mean_absolute_error: 2.7848\n",
      "Epoch 78/100\n",
      "2/2 [==============================] - 0s 18ms/step - loss: 2.1935 - mean_absolute_error: 1.2290 - val_loss: 12.9644 - val_mean_absolute_error: 2.7868\n",
      "Epoch 79/100\n",
      "2/2 [==============================] - 0s 19ms/step - loss: 2.1747 - mean_absolute_error: 1.2241 - val_loss: 12.9749 - val_mean_absolute_error: 2.7869\n",
      "Epoch 80/100\n",
      "2/2 [==============================] - 0s 19ms/step - loss: 2.1609 - mean_absolute_error: 1.2191 - val_loss: 12.9974 - val_mean_absolute_error: 2.7881\n",
      "Epoch 81/100\n",
      "2/2 [==============================] - 0s 18ms/step - loss: 2.1515 - mean_absolute_error: 1.2161 - val_loss: 13.0263 - val_mean_absolute_error: 2.7901\n",
      "Epoch 82/100\n",
      "2/2 [==============================] - 0s 18ms/step - loss: 2.1436 - mean_absolute_error: 1.2114 - val_loss: 13.0582 - val_mean_absolute_error: 2.7921\n",
      "Epoch 83/100\n",
      "2/2 [==============================] - 0s 25ms/step - loss: 2.1300 - mean_absolute_error: 1.2066 - val_loss: 13.0588 - val_mean_absolute_error: 2.7906\n",
      "Epoch 84/100\n",
      "2/2 [==============================] - 0s 21ms/step - loss: 2.1189 - mean_absolute_error: 1.2029 - val_loss: 13.0638 - val_mean_absolute_error: 2.7900\n",
      "Epoch 85/100\n",
      "2/2 [==============================] - 0s 21ms/step - loss: 2.1088 - mean_absolute_error: 1.1992 - val_loss: 13.0846 - val_mean_absolute_error: 2.7914\n",
      "Epoch 86/100\n",
      "2/2 [==============================] - 0s 19ms/step - loss: 2.1026 - mean_absolute_error: 1.1975 - val_loss: 13.0974 - val_mean_absolute_error: 2.7929\n",
      "Epoch 87/100\n",
      "2/2 [==============================] - 0s 21ms/step - loss: 2.0942 - mean_absolute_error: 1.1940 - val_loss: 13.0920 - val_mean_absolute_error: 2.7940\n",
      "Epoch 88/100\n",
      "2/2 [==============================] - 0s 19ms/step - loss: 2.0811 - mean_absolute_error: 1.1905 - val_loss: 13.1180 - val_mean_absolute_error: 2.7983\n",
      "Epoch 89/100\n",
      "2/2 [==============================] - 0s 19ms/step - loss: 2.0663 - mean_absolute_error: 1.1844 - val_loss: 13.1598 - val_mean_absolute_error: 2.8029\n",
      "Epoch 90/100\n",
      "2/2 [==============================] - 0s 19ms/step - loss: 2.0584 - mean_absolute_error: 1.1804 - val_loss: 13.2010 - val_mean_absolute_error: 2.8071\n",
      "Epoch 91/100\n",
      "2/2 [==============================] - 0s 20ms/step - loss: 2.0550 - mean_absolute_error: 1.1752 - val_loss: 13.2590 - val_mean_absolute_error: 2.8122\n",
      "Epoch 92/100\n",
      "2/2 [==============================] - 0s 18ms/step - loss: 2.0383 - mean_absolute_error: 1.1690 - val_loss: 13.2801 - val_mean_absolute_error: 2.8158\n",
      "Epoch 93/100\n",
      "2/2 [==============================] - 0s 18ms/step - loss: 2.0237 - mean_absolute_error: 1.1643 - val_loss: 13.2931 - val_mean_absolute_error: 2.8198\n",
      "Epoch 94/100\n",
      "2/2 [==============================] - 0s 19ms/step - loss: 2.0164 - mean_absolute_error: 1.1626 - val_loss: 13.2860 - val_mean_absolute_error: 2.8224\n",
      "Epoch 95/100\n",
      "2/2 [==============================] - 0s 19ms/step - loss: 1.9987 - mean_absolute_error: 1.1579 - val_loss: 13.2904 - val_mean_absolute_error: 2.8255\n",
      "Epoch 96/100\n",
      "2/2 [==============================] - 0s 20ms/step - loss: 1.9900 - mean_absolute_error: 1.1563 - val_loss: 13.2724 - val_mean_absolute_error: 2.8269\n",
      "Epoch 97/100\n",
      "2/2 [==============================] - 0s 88ms/step - loss: 1.9712 - mean_absolute_error: 1.1516 - val_loss: 13.2577 - val_mean_absolute_error: 2.8269\n",
      "Epoch 98/100\n",
      "2/2 [==============================] - 0s 19ms/step - loss: 1.9584 - mean_absolute_error: 1.1485 - val_loss: 13.2439 - val_mean_absolute_error: 2.8272\n",
      "Epoch 99/100\n",
      "2/2 [==============================] - 0s 18ms/step - loss: 1.9452 - mean_absolute_error: 1.1449 - val_loss: 13.2163 - val_mean_absolute_error: 2.8265\n",
      "Epoch 100/100\n",
      "2/2 [==============================] - 0s 18ms/step - loss: 1.9329 - mean_absolute_error: 1.1436 - val_loss: 13.1981 - val_mean_absolute_error: 2.8265\n"
     ]
    }
   ],
   "source": [
    "history = model.fit(x_train, y_train, epochs=100,batch_size=8, validation_split=0.2)"
   ]
  },
  {
   "cell_type": "code",
   "execution_count": 72,
   "id": "c4968d32",
   "metadata": {},
   "outputs": [
    {
     "data": {
      "image/png": "[encoded data removed]",
      "text/plain": [
       "<Figure size 640x480 with 1 Axes>"
      ]
     },
     "metadata": {},
     "output_type": "display_data"
    }
   ],
   "source": [
    "plt.plot(history.history['loss'], label='Tloss')\n",
    "plt.title('Training Loss')\n",
    "plt.xlabel('Epoch')\n",
    "plt.ylabel('Loss')\n",
    "plt.legend(loc='upper right')\n",
    "plt.show()#可视化训练集损失"
   ]
  },
  {
   "cell_type": "code",
   "execution_count": 73,
   "id": "cee90880",
   "metadata": {},
   "outputs": [
    {
     "data": {
      "image/png": "[encoded data removed]",
      "text/plain": [
       "<Figure size 640x480 with 1 Axes>"
      ]
     },
     "metadata": {},
     "output_type": "display_data"
    }
   ],
   "source": [
    "import matplotlib.pyplot as plt\n",
    "plt.plot(history.history['val_loss'], label='Vloss')\n",
    "plt.title('Validation Loss')\n",
    "plt.xlabel('Epoch')\n",
    "plt.ylabel('Loss')\n",
    "plt.legend(loc='upper right')\n",
    "plt.show()#可视化验集损失"
   ]
  },
  {
   "cell_type": "code",
   "execution_count": 74,
   "id": "07cc1a46",
   "metadata": {},
   "outputs": [
    {
     "name": "stdout",
     "output_type": "stream",
     "text": [
      "1/1 [==============================] - 0s 0s/step - loss: 1.7413 - mean_absolute_error: 1.0766\n"
     ]
    }
   ],
   "source": [
    "test_loss = model.evaluate(x_test, y_test)#模型在验证集的误差"
   ]
  },
  {
   "cell_type": "code",
   "execution_count": 75,
   "id": "f0e0a3b1",
   "metadata": {},
   "outputs": [
    {
     "name": "stdout",
     "output_type": "stream",
     "text": [
      "Test Loss: [1.7413010597229004, 1.076600193977356]\n"
     ]
    }
   ],
   "source": [
    "print(\"Test Loss:\", test_loss)#打印误差"
   ]
  },
  {
   "cell_type": "code",
   "execution_count": 76,
   "id": "a5dd93c7",
   "metadata": {},
   "outputs": [],
   "source": [
    "tf.keras.models.save_model(model, 'my_model11.h5')#保存模型"
   ]
  },
  {
   "cell_type": "code",
   "execution_count": 77,
   "id": "0f4d0c1e",
   "metadata": {},
   "outputs": [],
   "source": [
    "mode2 = tf.keras.models.load_model('my_model11.h5')"
   ]
  },
  {
   "cell_type": "code",
   "execution_count": 78,
   "id": "0c207000",
   "metadata": {},
   "outputs": [],
   "source": [
    "from tensorflow import keras\n",
    "\n",
    "# 加载模型\n",
    "loaded_model = keras.models.load_model('my_model11.h5')"
   ]
  },
  {
   "cell_type": "code",
   "execution_count": 79,
   "id": "68fc6e2f",
   "metadata": {},
   "outputs": [],
   "source": [
    "new_data = pd.read_csv(\"4预测焊缝增长算列分析.csv\")#导入需要预测的数据"
   ]
  },
  {
   "cell_type": "code",
   "execution_count": 80,
   "id": "b5d21966",
   "metadata": {},
   "outputs": [],
   "source": [
    "new_data1 = new_data .astype('float32')#将数据转为32位"
   ]
  },
  {
   "cell_type": "code",
   "execution_count": 81,
   "id": "44e163a6",
   "metadata": {},
   "outputs": [],
   "source": [
    "new_data1 = np.array([[1, 2, 3, 4, 5,6,7,8,9,10,11]])"
   ]
  },
  {
   "cell_type": "code",
   "execution_count": 82,
   "id": "0d996a95",
   "metadata": {},
   "outputs": [],
   "source": [
    "prediction = mode2.predict(new_data)#预测"
   ]
  },
  {
   "cell_type": "code",
   "execution_count": 83,
   "id": "1f82c5f7",
   "metadata": {},
   "outputs": [
    {
     "name": "stdout",
     "output_type": "stream",
     "text": [
      "预测寿命为： 2.9197161\n",
      "预测寿命为： 7.6524243\n",
      "预测寿命为： 10.787615\n",
      "预测寿命为： 4.3384376\n",
      "预测寿命为： 3.6685603\n",
      "预测寿命为： 4.6108856\n",
      "预测寿命为： 6.2323275\n",
      "预测寿命为： 5.007388\n",
      "预测寿命为： 4.795565\n",
      "预测寿命为： 4.838351\n",
      "预测寿命为： 2.7462487\n",
      "预测寿命为： 3.2452633\n",
      "预测寿命为： 4.7123756\n",
      "预测寿命为： 5.0453568\n",
      "预测寿命为： 5.83838\n",
      "预测寿命为： 5.1656146\n",
      "预测寿命为： 3.2168906\n",
      "预测寿命为： 4.489382\n",
      "预测寿命为： 5.4030805\n"
     ]
    }
   ],
   "source": [
    "for pred in prediction:\n",
    "    print(\"预测寿命为：\", pred[0])#s输出预测值"
   ]
  },
  {
   "cell_type": "code",
   "execution_count": null,
   "id": "d75ba365",
   "metadata": {},
   "outputs": [],
   "source": []
  }
 ],
 "metadata": {
  "kernelspec": {
   "display_name": "Python 3 (ipykernel)",
   "language": "python",
   "name": "python3"
  },
  "language_info": {
   "codemirror_mode": {
    "name": "ipython",
    "version": 3
   },
   "file_extension": ".py",
   "mimetype": "text/x-python",
   "name": "python",
   "nbconvert_exporter": "python",
   "pygments_lexer": "ipython3",
   "version": "3.8.18"
  }
 },
 "nbformat": 4,
 "nbformat_minor": 5
}